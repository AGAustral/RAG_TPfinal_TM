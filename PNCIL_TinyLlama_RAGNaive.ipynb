{
 "cells": [
  {
   "cell_type": "markdown",
   "id": "be9912b4-cd3d-47c7-a1e0-c0e7ad77bf1e",
   "metadata": {},
   "source": [
    "<a id = \"1.0\"></a>\n",
    "<p style=\"font-size:15px;color:#34656d;font-family:'Comic Sans MS';text-align:right;border-radius:5px 5px;\">\n",
    "    <i>Aprender una técnica no es un fin en si mismo, simplemente indica por donde hay que empezar</i><br><b>Proverbio Japonés</b></p> "
   ]
  },
  {
   "cell_type": "markdown",
   "id": "35648af7-d9ff-47bc-aacb-2149b1aea1e9",
   "metadata": {},
   "source": [
    "<a id = \"1.0\"></a>\n",
    "<p style=\"font-size:25px;color:#34656d;font-family:'Comic Sans MS';text-align:center;border-radius:5px 5px;\">\n",
    "<strong>R</strong>etrieval <strong>A</strong>ugmented <strong>G</strong>eneration</p> "
   ]
  },
  {
   "cell_type": "markdown",
   "id": "b6693221-a60a-4409-9899-ebdf354e0703",
   "metadata": {},
   "source": [
    "<a id = \"1.0\"></a>\n",
    "<p style=\"font-size:15px;color:#34656d;font-family:'Comic Sans MS';text-align:left;border-radius:5px 5px;\">\n",
    "<strong>Cargar librerías</strong></p> "
   ]
  },
  {
   "cell_type": "code",
   "execution_count": 1,
   "id": "a847b891",
   "metadata": {},
   "outputs": [],
   "source": [
    "import warnings\n",
    "import os\n",
    "import numpy as np\n",
    "import json\n",
    "import torch # Necesario para manejar dtype y device_map\n",
    "from transformers import pipeline, AutoModelForCausalLM, AutoTokenizer\n",
    "warnings.filterwarnings(\"ignore\")\n",
    "#Ajustar path\n",
    "os.environ[\"HF_HOME\"] = \"D:/HF/MODEL_CACHE\"   \n",
    "os.environ[\"HF_DATASETS_CACHE\"] = \"D:/HF/MODEL_CACHE\""
   ]
  },
  {
   "cell_type": "code",
   "execution_count": 2,
   "id": "5d28e1aa-223f-478b-84c3-3479f4b1ed0d",
   "metadata": {},
   "outputs": [
    {
     "name": "stdout",
     "output_type": "stream",
     "text": [
      "Requirement already satisfied: faiss-cpu in c:\\users\\agarmendia\\appdata\\local\\anaconda3\\lib\\site-packages (1.12.0)\n",
      "Requirement already satisfied: numpy<3.0,>=1.25.0 in c:\\users\\agarmendia\\appdata\\local\\anaconda3\\lib\\site-packages (from faiss-cpu) (2.1.3)\n",
      "Requirement already satisfied: packaging in c:\\users\\agarmendia\\appdata\\local\\anaconda3\\lib\\site-packages (from faiss-cpu) (24.2)\n"
     ]
    }
   ],
   "source": [
    "!pip install faiss-cpu"
   ]
  },
  {
   "cell_type": "code",
   "execution_count": 3,
   "id": "0150ddaa",
   "metadata": {},
   "outputs": [],
   "source": [
    "import faiss"
   ]
  },
  {
   "cell_type": "markdown",
   "id": "47d45205-29b6-4cb1-88b8-ffbdcc5f4f8e",
   "metadata": {},
   "source": [
    "<p style=\"font-size:15px;color:#34656d;font-family:'Comic Sans MS';text-align:left;border-radius:5px 5px;\">\n",
    "<strong>faiss:</strong> búsqueda por similitud en vectores - Doc: \n",
    "<a href=\"https://github.com/facebookresearch/faiss?tab=readme-ov-file\" target=\\\"_blank\\\">Faiss</a></p>"
   ]
  },
  {
   "cell_type": "code",
   "execution_count": 4,
   "id": "88287990-2da7-464d-8240-85ad197bfc4e",
   "metadata": {},
   "outputs": [
    {
     "name": "stdout",
     "output_type": "stream",
     "text": [
      "Requirement already satisfied: sentence-transformers in c:\\users\\agarmendia\\appdata\\local\\anaconda3\\lib\\site-packages (5.1.1)\n",
      "Requirement already satisfied: transformers<5.0.0,>=4.41.0 in c:\\users\\agarmendia\\appdata\\local\\anaconda3\\lib\\site-packages (from sentence-transformers) (4.57.0)\n",
      "Requirement already satisfied: tqdm in c:\\users\\agarmendia\\appdata\\local\\anaconda3\\lib\\site-packages (from sentence-transformers) (4.67.1)\n",
      "Requirement already satisfied: torch>=1.11.0 in c:\\users\\agarmendia\\appdata\\local\\anaconda3\\lib\\site-packages (from sentence-transformers) (2.8.0)\n",
      "Requirement already satisfied: scikit-learn in c:\\users\\agarmendia\\appdata\\local\\anaconda3\\lib\\site-packages (from sentence-transformers) (1.6.1)\n",
      "Requirement already satisfied: scipy in c:\\users\\agarmendia\\appdata\\local\\anaconda3\\lib\\site-packages (from sentence-transformers) (1.15.3)\n",
      "Requirement already satisfied: huggingface-hub>=0.20.0 in c:\\users\\agarmendia\\appdata\\local\\anaconda3\\lib\\site-packages (from sentence-transformers) (0.35.3)\n",
      "Requirement already satisfied: Pillow in c:\\users\\agarmendia\\appdata\\local\\anaconda3\\lib\\site-packages (from sentence-transformers) (11.1.0)\n",
      "Requirement already satisfied: typing_extensions>=4.5.0 in c:\\users\\agarmendia\\appdata\\local\\anaconda3\\lib\\site-packages (from sentence-transformers) (4.12.2)\n",
      "Requirement already satisfied: filelock in c:\\users\\agarmendia\\appdata\\local\\anaconda3\\lib\\site-packages (from transformers<5.0.0,>=4.41.0->sentence-transformers) (3.17.0)\n",
      "Requirement already satisfied: numpy>=1.17 in c:\\users\\agarmendia\\appdata\\local\\anaconda3\\lib\\site-packages (from transformers<5.0.0,>=4.41.0->sentence-transformers) (2.1.3)\n",
      "Requirement already satisfied: packaging>=20.0 in c:\\users\\agarmendia\\appdata\\local\\anaconda3\\lib\\site-packages (from transformers<5.0.0,>=4.41.0->sentence-transformers) (24.2)\n",
      "Requirement already satisfied: pyyaml>=5.1 in c:\\users\\agarmendia\\appdata\\local\\anaconda3\\lib\\site-packages (from transformers<5.0.0,>=4.41.0->sentence-transformers) (6.0.2)\n",
      "Requirement already satisfied: regex!=2019.12.17 in c:\\users\\agarmendia\\appdata\\local\\anaconda3\\lib\\site-packages (from transformers<5.0.0,>=4.41.0->sentence-transformers) (2024.11.6)\n",
      "Requirement already satisfied: requests in c:\\users\\agarmendia\\appdata\\local\\anaconda3\\lib\\site-packages (from transformers<5.0.0,>=4.41.0->sentence-transformers) (2.32.3)\n",
      "Requirement already satisfied: tokenizers<=0.23.0,>=0.22.0 in c:\\users\\agarmendia\\appdata\\local\\anaconda3\\lib\\site-packages (from transformers<5.0.0,>=4.41.0->sentence-transformers) (0.22.1)\n",
      "Requirement already satisfied: safetensors>=0.4.3 in c:\\users\\agarmendia\\appdata\\local\\anaconda3\\lib\\site-packages (from transformers<5.0.0,>=4.41.0->sentence-transformers) (0.6.2)\n",
      "Requirement already satisfied: fsspec>=2023.5.0 in c:\\users\\agarmendia\\appdata\\local\\anaconda3\\lib\\site-packages (from huggingface-hub>=0.20.0->sentence-transformers) (2025.3.2)\n",
      "Requirement already satisfied: sympy>=1.13.3 in c:\\users\\agarmendia\\appdata\\local\\anaconda3\\lib\\site-packages (from torch>=1.11.0->sentence-transformers) (1.13.3)\n",
      "Requirement already satisfied: networkx in c:\\users\\agarmendia\\appdata\\local\\anaconda3\\lib\\site-packages (from torch>=1.11.0->sentence-transformers) (3.4.2)\n",
      "Requirement already satisfied: jinja2 in c:\\users\\agarmendia\\appdata\\local\\anaconda3\\lib\\site-packages (from torch>=1.11.0->sentence-transformers) (3.1.6)\n",
      "Requirement already satisfied: setuptools in c:\\users\\agarmendia\\appdata\\local\\anaconda3\\lib\\site-packages (from torch>=1.11.0->sentence-transformers) (72.1.0)\n",
      "Requirement already satisfied: mpmath<1.4,>=1.1.0 in c:\\users\\agarmendia\\appdata\\local\\anaconda3\\lib\\site-packages (from sympy>=1.13.3->torch>=1.11.0->sentence-transformers) (1.3.0)\n",
      "Requirement already satisfied: colorama in c:\\users\\agarmendia\\appdata\\local\\anaconda3\\lib\\site-packages (from tqdm->sentence-transformers) (0.4.6)\n",
      "Requirement already satisfied: MarkupSafe>=2.0 in c:\\users\\agarmendia\\appdata\\local\\anaconda3\\lib\\site-packages (from jinja2->torch>=1.11.0->sentence-transformers) (3.0.2)\n",
      "Requirement already satisfied: charset-normalizer<4,>=2 in c:\\users\\agarmendia\\appdata\\local\\anaconda3\\lib\\site-packages (from requests->transformers<5.0.0,>=4.41.0->sentence-transformers) (3.3.2)\n",
      "Requirement already satisfied: idna<4,>=2.5 in c:\\users\\agarmendia\\appdata\\local\\anaconda3\\lib\\site-packages (from requests->transformers<5.0.0,>=4.41.0->sentence-transformers) (3.7)\n",
      "Requirement already satisfied: urllib3<3,>=1.21.1 in c:\\users\\agarmendia\\appdata\\local\\anaconda3\\lib\\site-packages (from requests->transformers<5.0.0,>=4.41.0->sentence-transformers) (2.3.0)\n",
      "Requirement already satisfied: certifi>=2017.4.17 in c:\\users\\agarmendia\\appdata\\local\\anaconda3\\lib\\site-packages (from requests->transformers<5.0.0,>=4.41.0->sentence-transformers) (2025.4.26)\n",
      "Requirement already satisfied: joblib>=1.2.0 in c:\\users\\agarmendia\\appdata\\local\\anaconda3\\lib\\site-packages (from scikit-learn->sentence-transformers) (1.4.2)\n",
      "Requirement already satisfied: threadpoolctl>=3.1.0 in c:\\users\\agarmendia\\appdata\\local\\anaconda3\\lib\\site-packages (from scikit-learn->sentence-transformers) (3.5.0)\n"
     ]
    }
   ],
   "source": [
    "!pip install sentence-transformers"
   ]
  },
  {
   "cell_type": "code",
   "execution_count": 5,
   "id": "ee8f762d",
   "metadata": {},
   "outputs": [],
   "source": [
    "from sentence_transformers import SentenceTransformer"
   ]
  },
  {
   "cell_type": "markdown",
   "id": "85041db3-630c-425a-9c44-89cbb221052d",
   "metadata": {},
   "source": [
    "<p style=\"font-size:15px;color:#34656d;font-family:'Comic Sans MS';text-align:left;border-radius:5px 5px;\">\n",
    "<strong>sentence_transformers:</strong> generador de embedding - Doc: \n",
    "<a href=\"https://www.sbert.net/\" target=\\\"_blank\\\">SentenceTransformers Documentation</a></p>"
   ]
  },
  {
   "cell_type": "code",
   "execution_count": 6,
   "id": "f945a2e2-b3b4-4619-b71a-a881f3b0e220",
   "metadata": {},
   "outputs": [
    {
     "name": "stdout",
     "output_type": "stream",
     "text": [
      "Requirement already satisfied: transformers in c:\\users\\agarmendia\\appdata\\local\\anaconda3\\lib\\site-packages (4.57.0)\n",
      "Requirement already satisfied: filelock in c:\\users\\agarmendia\\appdata\\local\\anaconda3\\lib\\site-packages (from transformers) (3.17.0)\n",
      "Requirement already satisfied: huggingface-hub<1.0,>=0.34.0 in c:\\users\\agarmendia\\appdata\\local\\anaconda3\\lib\\site-packages (from transformers) (0.35.3)\n",
      "Requirement already satisfied: numpy>=1.17 in c:\\users\\agarmendia\\appdata\\local\\anaconda3\\lib\\site-packages (from transformers) (2.1.3)\n",
      "Requirement already satisfied: packaging>=20.0 in c:\\users\\agarmendia\\appdata\\local\\anaconda3\\lib\\site-packages (from transformers) (24.2)\n",
      "Requirement already satisfied: pyyaml>=5.1 in c:\\users\\agarmendia\\appdata\\local\\anaconda3\\lib\\site-packages (from transformers) (6.0.2)\n",
      "Requirement already satisfied: regex!=2019.12.17 in c:\\users\\agarmendia\\appdata\\local\\anaconda3\\lib\\site-packages (from transformers) (2024.11.6)\n",
      "Requirement already satisfied: requests in c:\\users\\agarmendia\\appdata\\local\\anaconda3\\lib\\site-packages (from transformers) (2.32.3)\n",
      "Requirement already satisfied: tokenizers<=0.23.0,>=0.22.0 in c:\\users\\agarmendia\\appdata\\local\\anaconda3\\lib\\site-packages (from transformers) (0.22.1)\n",
      "Requirement already satisfied: safetensors>=0.4.3 in c:\\users\\agarmendia\\appdata\\local\\anaconda3\\lib\\site-packages (from transformers) (0.6.2)\n",
      "Requirement already satisfied: tqdm>=4.27 in c:\\users\\agarmendia\\appdata\\local\\anaconda3\\lib\\site-packages (from transformers) (4.67.1)\n",
      "Requirement already satisfied: fsspec>=2023.5.0 in c:\\users\\agarmendia\\appdata\\local\\anaconda3\\lib\\site-packages (from huggingface-hub<1.0,>=0.34.0->transformers) (2025.3.2)\n",
      "Requirement already satisfied: typing-extensions>=3.7.4.3 in c:\\users\\agarmendia\\appdata\\local\\anaconda3\\lib\\site-packages (from huggingface-hub<1.0,>=0.34.0->transformers) (4.12.2)\n",
      "Requirement already satisfied: colorama in c:\\users\\agarmendia\\appdata\\local\\anaconda3\\lib\\site-packages (from tqdm>=4.27->transformers) (0.4.6)\n",
      "Requirement already satisfied: charset-normalizer<4,>=2 in c:\\users\\agarmendia\\appdata\\local\\anaconda3\\lib\\site-packages (from requests->transformers) (3.3.2)\n",
      "Requirement already satisfied: idna<4,>=2.5 in c:\\users\\agarmendia\\appdata\\local\\anaconda3\\lib\\site-packages (from requests->transformers) (3.7)\n",
      "Requirement already satisfied: urllib3<3,>=1.21.1 in c:\\users\\agarmendia\\appdata\\local\\anaconda3\\lib\\site-packages (from requests->transformers) (2.3.0)\n",
      "Requirement already satisfied: certifi>=2017.4.17 in c:\\users\\agarmendia\\appdata\\local\\anaconda3\\lib\\site-packages (from requests->transformers) (2025.4.26)\n"
     ]
    }
   ],
   "source": [
    "!pip install transformers"
   ]
  },
  {
   "cell_type": "code",
   "execution_count": 7,
   "id": "d49041a1",
   "metadata": {},
   "outputs": [],
   "source": [
    "from transformers import pipeline"
   ]
  },
  {
   "cell_type": "markdown",
   "id": "de2fa3c8-bc42-4cb7-bc2d-870cac0d9fd3",
   "metadata": {},
   "source": [
    "<p style=\"font-size:15px;color:#34656d;font-family:'Comic Sans MS';text-align:left;border-radius:5px 5px;\">\n",
    "<strong>pipeline:</strong> secuencias - Doc:    \n",
    "<a href=\"https://huggingface.co/docs/transformers/main_classes/pipelines\" target=\\\"_blank\\\">Pipelines Method</a><br>\n",
    "<a href=\"https://huggingface.co/docs/transformers/v4.46.0/en/add_new_pipeline\" target=\\\"_blank\\\">How to create a custom pipeline?</a></p>"
   ]
  },
  {
   "cell_type": "code",
   "execution_count": 8,
   "id": "1cddb670-afb8-475c-a087-52c7d8bf0d42",
   "metadata": {},
   "outputs": [
    {
     "name": "stdout",
     "output_type": "stream",
     "text": [
      "Requirement already satisfied: accelerate in c:\\users\\agarmendia\\appdata\\local\\anaconda3\\lib\\site-packages (1.11.0)\n",
      "Requirement already satisfied: numpy>=1.17 in c:\\users\\agarmendia\\appdata\\local\\anaconda3\\lib\\site-packages (from accelerate) (2.1.3)\n",
      "Requirement already satisfied: packaging>=20.0 in c:\\users\\agarmendia\\appdata\\local\\anaconda3\\lib\\site-packages (from accelerate) (24.2)\n",
      "Requirement already satisfied: psutil in c:\\users\\agarmendia\\appdata\\local\\anaconda3\\lib\\site-packages (from accelerate) (5.9.0)\n",
      "Requirement already satisfied: pyyaml in c:\\users\\agarmendia\\appdata\\local\\anaconda3\\lib\\site-packages (from accelerate) (6.0.2)\n",
      "Requirement already satisfied: torch>=2.0.0 in c:\\users\\agarmendia\\appdata\\local\\anaconda3\\lib\\site-packages (from accelerate) (2.8.0)\n",
      "Requirement already satisfied: huggingface_hub>=0.21.0 in c:\\users\\agarmendia\\appdata\\local\\anaconda3\\lib\\site-packages (from accelerate) (0.35.3)\n",
      "Requirement already satisfied: safetensors>=0.4.3 in c:\\users\\agarmendia\\appdata\\local\\anaconda3\\lib\\site-packages (from accelerate) (0.6.2)\n",
      "Requirement already satisfied: filelock in c:\\users\\agarmendia\\appdata\\local\\anaconda3\\lib\\site-packages (from huggingface_hub>=0.21.0->accelerate) (3.17.0)\n",
      "Requirement already satisfied: fsspec>=2023.5.0 in c:\\users\\agarmendia\\appdata\\local\\anaconda3\\lib\\site-packages (from huggingface_hub>=0.21.0->accelerate) (2025.3.2)\n",
      "Requirement already satisfied: requests in c:\\users\\agarmendia\\appdata\\local\\anaconda3\\lib\\site-packages (from huggingface_hub>=0.21.0->accelerate) (2.32.3)\n",
      "Requirement already satisfied: tqdm>=4.42.1 in c:\\users\\agarmendia\\appdata\\local\\anaconda3\\lib\\site-packages (from huggingface_hub>=0.21.0->accelerate) (4.67.1)\n",
      "Requirement already satisfied: typing-extensions>=3.7.4.3 in c:\\users\\agarmendia\\appdata\\local\\anaconda3\\lib\\site-packages (from huggingface_hub>=0.21.0->accelerate) (4.12.2)\n",
      "Requirement already satisfied: sympy>=1.13.3 in c:\\users\\agarmendia\\appdata\\local\\anaconda3\\lib\\site-packages (from torch>=2.0.0->accelerate) (1.13.3)\n",
      "Requirement already satisfied: networkx in c:\\users\\agarmendia\\appdata\\local\\anaconda3\\lib\\site-packages (from torch>=2.0.0->accelerate) (3.4.2)\n",
      "Requirement already satisfied: jinja2 in c:\\users\\agarmendia\\appdata\\local\\anaconda3\\lib\\site-packages (from torch>=2.0.0->accelerate) (3.1.6)\n",
      "Requirement already satisfied: setuptools in c:\\users\\agarmendia\\appdata\\local\\anaconda3\\lib\\site-packages (from torch>=2.0.0->accelerate) (72.1.0)\n",
      "Requirement already satisfied: mpmath<1.4,>=1.1.0 in c:\\users\\agarmendia\\appdata\\local\\anaconda3\\lib\\site-packages (from sympy>=1.13.3->torch>=2.0.0->accelerate) (1.3.0)\n",
      "Requirement already satisfied: colorama in c:\\users\\agarmendia\\appdata\\local\\anaconda3\\lib\\site-packages (from tqdm>=4.42.1->huggingface_hub>=0.21.0->accelerate) (0.4.6)\n",
      "Requirement already satisfied: MarkupSafe>=2.0 in c:\\users\\agarmendia\\appdata\\local\\anaconda3\\lib\\site-packages (from jinja2->torch>=2.0.0->accelerate) (3.0.2)\n",
      "Requirement already satisfied: charset-normalizer<4,>=2 in c:\\users\\agarmendia\\appdata\\local\\anaconda3\\lib\\site-packages (from requests->huggingface_hub>=0.21.0->accelerate) (3.3.2)\n",
      "Requirement already satisfied: idna<4,>=2.5 in c:\\users\\agarmendia\\appdata\\local\\anaconda3\\lib\\site-packages (from requests->huggingface_hub>=0.21.0->accelerate) (3.7)\n",
      "Requirement already satisfied: urllib3<3,>=1.21.1 in c:\\users\\agarmendia\\appdata\\local\\anaconda3\\lib\\site-packages (from requests->huggingface_hub>=0.21.0->accelerate) (2.3.0)\n",
      "Requirement already satisfied: certifi>=2017.4.17 in c:\\users\\agarmendia\\appdata\\local\\anaconda3\\lib\\site-packages (from requests->huggingface_hub>=0.21.0->accelerate) (2025.4.26)\n"
     ]
    }
   ],
   "source": [
    "!pip install accelerate"
   ]
  },
  {
   "cell_type": "code",
   "execution_count": 9,
   "id": "7ac29d3d-4c9a-4675-96d6-b7efadf538c9",
   "metadata": {},
   "outputs": [],
   "source": [
    "import torch\n",
    "from transformers import pipeline, AutoModelForCausalLM, AutoTokenizer\n"
   ]
  },
  {
   "cell_type": "markdown",
   "id": "498e4714-bbe9-4612-94d4-85a2167e4d46",
   "metadata": {},
   "source": [
    "<a id = \"1.0\"></a>\n",
    "<p style=\"font-size:15px;color:#34656d;font-family:'Comic Sans MS';text-align:left;border-radius:5px 5px;\">\n",
    "<strong>Definición del Corpus de Documentos - Base de conocimiento</strong></p> "
   ]
  },
  {
   "cell_type": "code",
   "execution_count": 10,
   "id": "c8ba0f61",
   "metadata": {},
   "outputs": [
    {
     "name": "stdout",
     "output_type": "stream",
     "text": [
      "Cargando documentos desde JSONL...\n",
      "✓ Cargados 58 documentos\n",
      "\n",
      "Primeros 200 caracteres del primer documento:\n",
      "CMO es Certificado Médico Oficial. Se tramita a través de la Agencia Nacional de Discapacidad (ANDIS) y es un requisito obligatorio para solicitar las Pensiones No Contributivas por Invalidez Laboral \n"
     ]
    }
   ],
   "source": [
    "# Carga de documentos desde JSONL\n",
    "print(\"Cargando documentos desde JSONL...\")\n",
    "documents = []\n",
    "with open(r\"C:\\Users\\agarmendia\\Desktop\\PNCIL_TinyLlama\\pncil_documents.jsonl\", 'r', encoding='utf-8') as f:\n",
    "    for line in f:\n",
    "        doc = json.loads(line)\n",
    "        documents.append(doc['text'])\n",
    "\n",
    "print(f\"✓ Cargados {len(documents)} documentos\")\n",
    "print(f\"\\nPrimeros 200 caracteres del primer documento:\")\n",
    "print(documents[0][:200])"
   ]
  },
  {
   "cell_type": "markdown",
   "id": "85260f58-f7a9-4afc-8466-30c64b5261aa",
   "metadata": {},
   "source": [
    "<a id = \"1.0\"></a>\n",
    "<p style=\"font-size:15px;color:#34656d;font-family:'Comic Sans MS';text-align:center;border-radius:5px 5px;\">\n",
    "<strong>_____________________________________________________________</strong></p> "
   ]
  },
  {
   "cell_type": "markdown",
   "id": "d01b8644-79ba-465a-b1c2-1b54969788f4",
   "metadata": {},
   "source": [
    "<a id = \"1.0\"></a>\n",
    "<p style=\"font-size:20px;color:#34656d;font-family:'Comic Sans MS';text-align:left;border-radius:5px 5px;\">\n",
    "<strong>1. Indexación: Creación de la Base de Conocimiento Vectorial</strong></p> \n",
    "<p style=\"font-size:15px;color:#34656d;font-family:'Comic Sans MS';text-align:left;border-radius:5px 5px;\">\n",
    "<strong>1.1. Cargar el Modelo de Embeddings - Entrenamiento Heredado</strong><br> \n",
    "<strong>all-MiniLM-L6-v2:</strong> Mapea oraciones y párrafos a un espacio vectorial de 384 dimensiones - \n",
    "Doc: <a href=\"https://huggingface.co/sentence-transformers/all-MiniLM-L6-v2\" target=\\\"_blank\\\">all-MiniLM-L6-v2</a></p>"
   ]
  },
  {
   "cell_type": "code",
   "execution_count": 11,
   "id": "1bc09852",
   "metadata": {},
   "outputs": [
    {
     "name": "stdout",
     "output_type": "stream",
     "text": [
      "Cargando modelo de SentenceTransformer - all-MiniLM-L6-v2 ...\n",
      "Modelo cargado\n"
     ]
    }
   ],
   "source": [
    "print(\"Cargando modelo de SentenceTransformer - all-MiniLM-L6-v2 ...\")\n",
    "embedding_model = SentenceTransformer('all-MiniLM-L6-v2')\n",
    "dimension = 384  # Se igualan las diemnsiones vectoriales al modelo utilizado\n",
    "print(\"Modelo cargado\")"
   ]
  },
  {
   "cell_type": "markdown",
   "id": "a86f18d8-7dda-4207-be2d-798ced7f3f65",
   "metadata": {},
   "source": [
    "<a id = \"1.0\"></a>\n",
    "<p style=\"font-size:15px;color:#34656d;font-family:'Comic Sans MS';text-align:left;border-radius:5px 5px;\">\n",
    "<strong>1.2. Generar Embeddings para los Documentos</strong><br></p>"
   ]
  },
  {
   "cell_type": "code",
   "execution_count": 12,
   "id": "5e672f1c",
   "metadata": {},
   "outputs": [
    {
     "name": "stdout",
     "output_type": "stream",
     "text": [
      "Generando embeddings para el corpus...\n",
      "Embeddings generados. Forma de la matriz: (58, 384)\n"
     ]
    }
   ],
   "source": [
    "print(\"Generando embeddings para el corpus...\")\n",
    "doc_embeddings = embedding_model.encode(documents)\n",
    "doc_embeddings = np.array(doc_embeddings, dtype='float32')\n",
    "print(f\"Embeddings generados. Forma de la matriz: {doc_embeddings.shape}\")"
   ]
  },
  {
   "cell_type": "markdown",
   "id": "fc5fe249-2945-4206-a184-838cfb331728",
   "metadata": {},
   "source": [
    "<a id = \"1.0\"></a>\n",
    "<p style=\"font-size:15px;color:#34656d;font-family:'Comic Sans MS';text-align:left;border-radius:5px 5px;\">\n",
    "<strong>1.3. Crear y Poblar el Índice FAISS</strong><br></p>"
   ]
  },
  {
   "cell_type": "code",
   "execution_count": 13,
   "id": "805f0a74",
   "metadata": {},
   "outputs": [
    {
     "name": "stdout",
     "output_type": "stream",
     "text": [
      "Índice FAISS creado y poblado. Contiene 58 vectores.\n"
     ]
    }
   ],
   "source": [
    "index = faiss.IndexFlatL2(dimension)\n",
    "index.add(doc_embeddings)\n",
    "print(f\"Índice FAISS creado y poblado. Contiene {index.ntotal} vectores.\")"
   ]
  },
  {
   "cell_type": "markdown",
   "id": "d17e41da-3e69-4df4-8917-952dc2615283",
   "metadata": {},
   "source": [
    "<a id = \"1.0\"></a>\n",
    "<p style=\"font-size:20px;color:#34656d;font-family:'Comic Sans MS';text-align:left;border-radius:5px 5px;\">\n",
    "<strong>2. Generación: Carga del Modelo de Lenguaje</strong></p> "
   ]
  },
  {
   "cell_type": "code",
   "execution_count": 14,
   "id": "dd54a800",
   "metadata": {},
   "outputs": [
    {
     "name": "stdout",
     "output_type": "stream",
     "text": [
      "Cargando modelo generativo (TinyLlama-1.1B-Chat)...\n"
     ]
    },
    {
     "name": "stderr",
     "output_type": "stream",
     "text": [
      "Device set to use cpu\n"
     ]
    },
    {
     "name": "stdout",
     "output_type": "stream",
     "text": [
      "Modelo generativo TinyLlama cargado.\n"
     ]
    }
   ],
   "source": [
    "# Cargar TinyLlama-1.1B-Chat-v1.0\n",
    "\n",
    "print(\"Cargando modelo generativo (TinyLlama-1.1B-Chat)...\")\n",
    "model_id = \"TinyLlama/TinyLlama-1.1B-Chat-v1.0\" \n",
    "\n",
    "# 1. Cargar Tokenizer\n",
    "tokenizer = AutoTokenizer.from_pretrained(model_id)\n",
    "\n",
    "# 2. Cargar Modelo (Se usa float16/bfloat16 si hay GPU o si la CPU lo soporta bien, si no, se deja la default)\n",
    "# Como la inferencia en CPU es más lenta, se podría usar device_map=\"cpu\" explícitamente o dejarlo en -1\n",
    "model = AutoModelForCausalLM.from_pretrained(\n",
    "    model_id,\n",
    "    device_map=\"auto\" # Intenta usar GPU, si no, usa CPU. Para forzar CPU usar device_map=\"cpu\"\n",
    ")\n",
    "\n",
    "# 3. Crear Pipeline\n",
    "generator = pipeline(\n",
    "    task=\"text-generation\", \n",
    "    model=model, \n",
    "    tokenizer=tokenizer,\n",
    "    #device=-1 # Forzar el uso de CPU para la demo si la GPU no es potente o no existe.\n",
    ")\n",
    "print(\"Modelo generativo TinyLlama cargado.\")"
   ]
  },
  {
   "cell_type": "markdown",
   "id": "8c742ee5-72a0-4eb2-9574-1d8ec581b8e5",
   "metadata": {},
   "source": [
    "<a id = \"1.0\"></a>\n",
    "<p style=\"font-size:20px;color:#34656d;font-family:'Comic Sans MS';text-align:left;border-radius:5px 5px;\">\n",
    "<strong>3. Método de extracción de vectores similares</strong></p> "
   ]
  },
  {
   "cell_type": "code",
   "execution_count": 15,
   "id": "5303c7f0-64b2-418a-bf0d-4c57fa7bb67e",
   "metadata": {},
   "outputs": [],
   "source": [
    "def retrieve_documents(query: str, k: int = 6, min_similarity: float = 0.4):\n",
    "    \"\"\"\n",
    "    Recupera documentos relevantes con filtrado por similitud mínima.\n",
    "    \n",
    "    Args:\n",
    "        query: consulta del usuario\n",
    "        k: número máximo de documentos a recuperar\n",
    "        min_similarity: umbral mínimo de similitud coseno (0-1)\n",
    "    \"\"\"\n",
    "    # Embedding de la query\n",
    "    query_embedding = embedding_model.encode([query])\n",
    "    faiss.normalize_L2(query_embedding)  \n",
    "    \n",
    "    # Buscar en FAISS\n",
    "    distances, indices = index.search(query_embedding, k)\n",
    "\n",
    "    similarities = 1 / (1 + distances[0])  # conversión aproximada\n",
    "    \n",
    "    # FILTRAR por threshold\n",
    "    filtered_docs = []\n",
    "    for i, sim in enumerate(similarities):\n",
    "        if sim >= min_similarity:\n",
    "            filtered_docs.append(documents[indices[0][i]])\n",
    "    \n",
    "    return filtered_docs   "
   ]
  },
  {
   "cell_type": "markdown",
   "id": "11a6e05a-89ce-412d-9abc-c49aef56feb4",
   "metadata": {},
   "source": [
    "<a id = \"1.0\"></a>\n",
    "<p style=\"font-size:20px;color:#34656d;font-family:'Comic Sans MS';text-align:left;border-radius:5px 5px;\">\n",
    "<strong>4. Método de generación de texto</strong><br> \n",
    "<p style=\"font-size:14px;color:#34656d;font-family:'Comic Sans MS';text-align:left;border-radius:5px 5px;\">\n",
    "<strong><u>Generator Params</u></strong>:\n",
    "<ul style=\"font-size:15px;color:#34656d;font-family:'Comic Sans MS';text-align:left;border-radius:5px 5px;\">\n",
    "<li><i><b>document:</b></i> texto base</li>\n",
    "<li><i><b>max_new_tokens:</b></i> genera hasta NN tokens</li>\n",
    "<li><i><b>num_return_sequences:</b></i> retorna solo un texto</li>\n",
    "<li><i><b>temperature:</b></i> ajusta la creatividad del modelo</li>\n",
    "<li><i><b>top_k y top_p:</b></i> controlan la selección de palabras para una generación más coherente y variada</li>\n",
    "</ul></p>"
   ]
  },
  {
   "cell_type": "code",
   "execution_count": 16,
   "id": "277ff1b8",
   "metadata": {},
   "outputs": [],
   "source": [
    "# Ajustar Prompt y Parámetros\n",
    "def generate_answer(query: str, retrieved_docs: list):\n",
    "    \n",
    "    context = \" \".join(retrieved_docs)\n",
    "\n",
    "    # El context window de TinyLlama es 2048. Se limita a 2000.\n",
    "    context_limit = 2000 \n",
    "    if len(context) > context_limit:\n",
    "        context = context[:context_limit] + \"...\"\n",
    "    \n",
    "    # Construir Prompt en formato Llama Chat Template\n",
    "    system_instruction = \"Eres un asistente de preguntas y respuestas cuya ÚNICA fuente de conocimiento es el 'Contexto' proporcionado. Debes responder la 'Pregunta' basandote estrictamente en el contexto, extrae SOLAMENTE esa información. Si el contexto NO PERMITE una respuesta fidedigna, debes responder EXCLUSIVAMENTE: 'No tengo información suficiente para responder a esa pregunta.'.\"\n",
    "   \n",
    "    user_prompt = f\"Contexto: {context}\\n\\nPregunta: {query}\"\n",
    "    \n",
    "    # Formato Llama Chat: <s>[INST] <<SYS>> {system_instruction} <</SYS>> {user_prompt} [/INST]\n",
    "    prompt = f\"<s>[INST] <<SYS>> {system_instruction} <</SYS>> {user_prompt} [/INST]\"\n",
    "\n",
    "    # Generar la respuesta (Parámetros ajustados para la facticidad)\n",
    "    generated_output = generator(\n",
    "        prompt,\n",
    "        max_new_tokens=256,\n",
    "        num_return_sequences=1,\n",
    "        truncation=True,\n",
    "        # Temperatura BAJA para reducir la alucinación \n",
    "        temperature=0.4,\n",
    "        top_p=0.90,\n",
    "        top_k=40\n",
    "    )\n",
    "    \n",
    "    answer = generated_output[0]['generated_text']\n",
    "    \n",
    "    # Limpieza: Llama devuelve el prompt completo, hay que limpiarlo\n",
    "    if \"[/INST]\" in answer:\n",
    "        # Extraemos solo el texto después del tag de cierre de instrucción\n",
    "        cleaned_answer = answer.split(\"[/INST]\")[1].strip()\n",
    "\n",
    "        # Eliminar el tag de sistema si el modelo lo regeneró por error\n",
    "        if \"<<SYS>>\" in cleaned_answer:\n",
    "            cleaned_answer = cleaned_answer.split(\"<<SYS>>\")[1].strip()\n",
    "            \n",
    "        # Eliminar en la palabra 'Pregunta' \n",
    "        if \"Pregunta:\" in cleaned_answer:\n",
    "            cleaned_answer = cleaned_answer.split(\"Pregunta:\")[0].strip()\n",
    "\n",
    "        # Añadir o verificar esta línea en la sección de limpieza \n",
    "        if cleaned_answer.lower().startswith(\"respuesta:\"):\n",
    "            cleaned_answer = cleaned_answer[len(\"respuesta:\"):].strip()\n",
    "\n",
    "        # Cortar en el tag de fin de secuencia '</s>'\n",
    "        if \"</s>\" in cleaned_answer:\n",
    "            cleaned_answer = cleaned_answer.split(\"</s>\")[0].strip()\n",
    "            \n",
    "    else:\n",
    "        # Fallback si el modelo no genera el tag de cierre \n",
    "        cleaned_answer = answer.strip()\n",
    "    \n",
    "    return cleaned_answer"
   ]
  },
  {
   "cell_type": "markdown",
   "id": "055589d4-e08c-4a4e-a2c3-7d712fd409d3",
   "metadata": {},
   "source": [
    "<a id = \"1.0\"></a>\n",
    "<p style=\"font-size:15px;color:#34656d;font-family:'Comic Sans MS';text-align:left;border-radius:5px 5px;\">\n",
    "<strong>Aclaración de Uso:</strong><br> \n",
    "I. El conjunto de documentos es un conjunto reducido a modo de ejemplo<br>\n",
    "II. Los parametros de generator afectan directamente a la respuesta del modelo    \n",
    "</p>"
   ]
  },
  {
   "cell_type": "markdown",
   "id": "d0001ca7-afb3-45cf-a6f4-445b19fa3619",
   "metadata": {},
   "source": [
    "<a id = \"1.0\"></a>\n",
    "<p style=\"font-size:20px;color:#34656d;font-family:'Comic Sans MS';text-align:left;border-radius:5px 5px;\">\n",
    "<strong>5. Ejemplo de Uso I:</strong><br> \n",
    "<p style=\"font-size:15px;color:#34656d;font-family:'Comic Sans MS';text-align:left;border-radius:5px 5px;\">\n",
    "<strong>Hacer pregunta</strong>:\n",
    "</p>"
   ]
  },
  {
   "cell_type": "code",
   "execution_count": 17,
   "id": "566d2364-1407-4316-a838-04cd66aa0ce1",
   "metadata": {},
   "outputs": [],
   "source": [
    "query_1 = \"¿Que es TAD?\""
   ]
  },
  {
   "cell_type": "markdown",
   "id": "6642fcc9-f7d0-450e-8ace-83c72c93bf9c",
   "metadata": {},
   "source": [
    "<a id = \"1.0\"></a>\n",
    "<p style=\"font-size:15px;color:#34656d;font-family:'Comic Sans MS';text-align:left;border-radius:5px 5px;\">\n",
    "<strong>Recuperar documentos relevantes</strong>:\n",
    "</p>"
   ]
  },
  {
   "cell_type": "code",
   "execution_count": 18,
   "id": "38173570",
   "metadata": {},
   "outputs": [
    {
     "name": "stdout",
     "output_type": "stream",
     "text": [
      "Documentos Recuperados:\n",
      "1. ANDIS es Agencia Nacional de Discapacidad. TAD es Plataforma Trámites a Distancia.\n",
      "2. ANDIS es Agencia Nacional de Discapacidad. TAD es Plataforma Trámites a Distancia.\n"
     ]
    }
   ],
   "source": [
    "relevant_docs_1 = retrieve_documents(query_1, k=2)\n",
    "print(\"Documentos Recuperados:\")\n",
    "for i, doc in enumerate(relevant_docs_1):\n",
    "    print(f\"{i+1}. {doc}\")"
   ]
  },
  {
   "cell_type": "markdown",
   "id": "9b9d18d0-38cb-4ece-a519-1741baacd028",
   "metadata": {},
   "source": [
    "<a id = \"1.0\"></a>\n",
    "<p style=\"font-size:15px;color:#34656d;font-family:'Comic Sans MS';text-align:left;border-radius:5px 5px;\">\n",
    "<strong>Generar respuesta en función de los documentos</strong>:\n",
    "</p>"
   ]
  },
  {
   "cell_type": "code",
   "execution_count": 19,
   "id": "8676209d-1f9c-4c43-8e00-32bc9ac10619",
   "metadata": {
    "scrolled": true
   },
   "outputs": [
    {
     "name": "stdout",
     "output_type": "stream",
     "text": [
      "Respuesta Generada:\n",
      "TAD es Plataforma Trámites a Distancia.\n"
     ]
    }
   ],
   "source": [
    "answer_1 = generate_answer(query_1, relevant_docs_1)\n",
    "print(\"Respuesta Generada:\")\n",
    "print(f\"{answer_1}\")"
   ]
  },
  {
   "cell_type": "markdown",
   "id": "21b061f6-d8e1-4546-8615-568437215a45",
   "metadata": {},
   "source": [
    "<a id = \"1.0\"></a>\n",
    "<p style=\"font-size:20px;color:#34656d;font-family:'Comic Sans MS';text-align:left;border-radius:5px 5px;\">\n",
    "<strong>6. Ejemplo de Uso II:</strong><br> \n",
    "<p style=\"font-size:15px;color:#34656d;font-family:'Comic Sans MS';text-align:left;border-radius:5px 5px;\">\n",
    "<strong>Hacer pregunta</strong>:\n",
    "</p>"
   ]
  },
  {
   "cell_type": "code",
   "execution_count": 20,
   "id": "21087c69",
   "metadata": {},
   "outputs": [],
   "source": [
    "query_2 = \"¿Cuales son los pasos a seguir después de la auditoría?\"\n"
   ]
  },
  {
   "cell_type": "markdown",
   "id": "65d1817f-0225-419f-974c-81180e365d0c",
   "metadata": {},
   "source": [
    "<a id = \"1.0\"></a>\n",
    "<p style=\"font-size:15px;color:#34656d;font-family:'Comic Sans MS';text-align:left;border-radius:5px 5px;\">\n",
    "<strong>Recuperar documentos relevantes</strong>:\n",
    "</p>"
   ]
  },
  {
   "cell_type": "code",
   "execution_count": 21,
   "id": "2c172b9d-109d-4bca-9fc6-2cc6e8ba43c9",
   "metadata": {},
   "outputs": [
    {
     "name": "stdout",
     "output_type": "stream",
     "text": [
      "Documentos Recuperados:\n",
      "1. MENORES DE EDAD Y AUDITORÍA Las personas menores de edad NO están incluidas en esta auditoría de pensiones.\n",
      "2. Pasos a seguir después de la auditoría: enviar a ANDIS la documentación y el certificado recibido por el prestador de PAMI dentro de los 30 días posteriores a la cita, escaneados (no original) por alguno de los siguientes medios: Plataforma de Trámites a Distancia, presencialmente en las oficinas de ANSES con turno previo, en los Centros de atención de la Agencia Nacional de Discapacidad, por correo postal a Hipólito Yrigoyen N°1447 CP 1089 CABA.\n"
     ]
    }
   ],
   "source": [
    "relevant_docs_2 = retrieve_documents(query_2, k=2)\n",
    "print(\"Documentos Recuperados:\")\n",
    "for i, doc in enumerate(relevant_docs_2):\n",
    "    print(f\"{i+1}. {doc}\")"
   ]
  },
  {
   "cell_type": "markdown",
   "id": "04dd3e2c-bcbf-4de5-8611-91412b71671b",
   "metadata": {},
   "source": [
    "<a id = \"1.0\"></a>\n",
    "<p style=\"font-size:15px;color:#34656d;font-family:'Comic Sans MS';text-align:left;border-radius:5px 5px;\">\n",
    "<strong>Generar respuesta en función de los documentos</strong>:\n",
    "</p>"
   ]
  },
  {
   "cell_type": "code",
   "execution_count": 22,
   "id": "c5b497b4-fca3-4a8b-a130-9c21db7f4d59",
   "metadata": {},
   "outputs": [
    {
     "name": "stdout",
     "output_type": "stream",
     "text": [
      "Respuesta Generada:\n",
      "Enviar a ANDIS la documentación y el certificado recibido por el prestador de PAMI dentro de los 30 días posteriores a la cita, escaneados (no original) por alguno de los siguientes medios: Plataforma de Trámites a Distancia, presencialmente en las oficinas de ANSES con turno previo, en los Centros de atención de la Agencia Nacional de Discapacidad, por correo postal a Hipólito Yrigoyen N°1447 CP 1089 CABA.\n"
     ]
    }
   ],
   "source": [
    "answer_2 = generate_answer(query_2, relevant_docs_2)\n",
    "print(\"Respuesta Generada:\")\n",
    "print(f\"{answer_2}\")"
   ]
  },
  {
   "cell_type": "markdown",
   "id": "43fbbdd8-1d3f-44bc-95a4-63055a7de388",
   "metadata": {},
   "source": [
    "<a id = \"1.0\"></a>\n",
    "<p style=\"font-size:15px;color:#34656d;font-family:'Comic Sans MS';text-align:center;border-radius:5px 5px;\">\n",
    "<strong>_____________________________________________________________</strong></p> "
   ]
  },
  {
   "cell_type": "markdown",
   "id": "05c3cbad-136e-498f-a0db-69a345cd3167",
   "metadata": {},
   "source": [
    "<a id = \"1.0\"></a>\n",
    "<p style=\"font-size:15px;color:#34656d;font-family:'Comic Sans MS';text-align:left;border-radius:5px 5px;\">\n",
    "<strong>Reflexión:</strong><br> \n",
    "El corpus de documentos provisto es el que aprota el contexto sobre el cual va a ser constuida la respuesta \n",
    "</p>"
   ]
  },
  {
   "cell_type": "markdown",
   "id": "69ccbc71-ed16-4984-ab82-b83c3f3bfeb0",
   "metadata": {},
   "source": [
    "<a id = \"1.0\"></a>\n",
    "<p style=\"font-size:15px;color:#34656d;font-family:'Comic Sans MS';text-align:center;border-radius:5px 5px;\">\n",
    "<strong>_____________________________________________________________</strong></p> "
   ]
  },
  {
   "cell_type": "markdown",
   "id": "4bb526c6-6814-4a5c-bdc9-796e17d33af3",
   "metadata": {},
   "source": [
    "<a id = \"1.0\"></a>\n",
    "<p style=\"font-size:15px;color:#34656d;font-family:'Comic Sans MS';text-align:left;border-radius:5px 5px;\">\n",
    "<strong>Actividad:</strong><br> \n",
    "Modificar documentos y peguntas, junto a parametros y evaluar resultado obtenido   \n",
    "</p>"
   ]
  },
  {
   "cell_type": "markdown",
   "id": "2320f9e9-8946-4f72-ae6d-5dcf9c6ae10d",
   "metadata": {},
   "source": [
    "<a id = \"1.0\"></a>\n",
    "<p style=\"font-size:15px;color:#34656d;font-family:'Comic Sans MS';text-align:center;border-radius:5px 5px;\">\n",
    "<strong>_____________________________________________________________</strong></p> "
   ]
  },
  {
   "cell_type": "markdown",
   "id": "7bcbce61-8746-4c1c-9c3f-8f3d9cbfcbaa",
   "metadata": {},
   "source": [
    "<a id = \"1.0\"></a>\n",
    "<p style=\"font-size:15px;color:#34656d;font-family:'Comic Sans MS';text-align:center;border-radius:5px 5px;\">\n",
    "<strong>_____________________________________________________________</strong></p> "
   ]
  }
 ],
 "metadata": {
  "kernelspec": {
   "display_name": "Python 3 (ipykernel)",
   "language": "python",
   "name": "python3"
  },
  "language_info": {
   "codemirror_mode": {
    "name": "ipython",
    "version": 3
   },
   "file_extension": ".py",
   "mimetype": "text/x-python",
   "name": "python",
   "nbconvert_exporter": "python",
   "pygments_lexer": "ipython3",
   "version": "3.13.5"
  }
 },
 "nbformat": 4,
 "nbformat_minor": 5
}
